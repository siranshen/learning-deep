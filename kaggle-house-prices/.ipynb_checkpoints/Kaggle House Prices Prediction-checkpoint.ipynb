{
 "cells": [
  {
   "cell_type": "code",
   "execution_count": 1,
   "id": "80dd21cb",
   "metadata": {},
   "outputs": [],
   "source": [
    "%matplotlib inline\n",
    "import numpy as np\n",
    "import pandas as pd\n",
    "import torch\n",
    "from torch import nn"
   ]
  },
  {
   "cell_type": "code",
   "execution_count": 2,
   "id": "c1cda345",
   "metadata": {},
   "outputs": [
    {
     "name": "stdout",
     "output_type": "stream",
     "text": [
      "(1460, 81)\n",
      "(1459, 80)\n"
     ]
    }
   ],
   "source": [
    "raw_train_set = pd.read_csv('data-set/train.csv')\n",
    "raw_test_set = pd.read_csv('data-set/test.csv')\n",
    "print(raw_train_set.shape)\n",
    "print(raw_test_set.shape)"
   ]
  },
  {
   "cell_type": "code",
   "execution_count": 9,
   "id": "4a8be3a5",
   "metadata": {},
   "outputs": [
    {
     "name": "stdout",
     "output_type": "stream",
     "text": [
      "   Id  MSSubClass MSZoning  LotFrontage SaleType SaleCondition  SalePrice\n",
      "0   1          60       RL         65.0       WD        Normal     208500\n",
      "1   2          20       RL         80.0       WD        Normal     181500\n",
      "2   3          60       RL         68.0       WD        Normal     223500\n",
      "3   4          70       RL         60.0       WD       Abnorml     140000\n",
      "     Id  MSSubClass MSZoning  LotFrontage  YrSold SaleType SaleCondition\n",
      "0  1461          20       RH         80.0    2010       WD        Normal\n",
      "1  1462          20       RL         81.0    2010       WD        Normal\n",
      "2  1463          60       RL         74.0    2010       WD        Normal\n",
      "3  1464          60       RL         78.0    2010       WD        Normal\n"
     ]
    }
   ],
   "source": [
    "print(raw_train_set.iloc[:4, [0, 1, 2, 3, -3, -2, -1]])\n",
    "print(raw_test_set.iloc[:4, [0, 1, 2, 3, -3, -2, -1]])"
   ]
  },
  {
   "cell_type": "code",
   "execution_count": 4,
   "id": "1649ad9c",
   "metadata": {},
   "outputs": [
    {
     "name": "stdout",
     "output_type": "stream",
     "text": [
      "(2919, 331)\n"
     ]
    }
   ],
   "source": [
    "features = pd.concat((raw_train_set.iloc[:, 1:-1], raw_test_set.iloc[:, 1:]))\n",
    "numeric_features_index = features.dtypes[features.dtypes != 'object'].index\n",
    "features[numeric_features_index] = features[numeric_features_index]\\\n",
    "    .apply(lambda x: (x - x.mean()) / x.std())\\\n",
    "    .fillna(0)\n",
    "features = pd.get_dummies(features, dummy_na=True)\n",
    "print(features.shape)"
   ]
  },
  {
   "cell_type": "code",
   "execution_count": 5,
   "id": "e7b159ca",
   "metadata": {},
   "outputs": [],
   "source": [
    "n_train = raw_train_set.shape[0]\n",
    "train_set = torch.tensor(features[:n_train].values, dtype=torch.float32)\n",
    "test_set = torch.tensor(features[n_train:].values, dtype=torch.float32)\n",
    "train_labels = torch.tensor(raw_train_set.iloc[:, -1].values.reshape(-1, 1), dtype=torch.float32)"
   ]
  },
  {
   "cell_type": "code",
   "execution_count": 14,
   "id": "792dafbf",
   "metadata": {},
   "outputs": [],
   "source": [
    "def loss(y_hat, y):\n",
    "    # RMSE of Logs\n",
    "#     fn = nn.MSELoss()\n",
    "#     return torch.sqrt(fn(torch.log(torch.clamp(y_hat, 1, float('inf'))), torch.log(y))).item()\n",
    "    sq_sum = (torch.log(torch.clamp(y_hat, 1, float('inf'))) - torch.log(y)) ** 2 / 2\n",
    "    return torch.sqrt(sq_sum.mean()).item()"
   ]
  },
  {
   "cell_type": "code",
   "execution_count": 12,
   "id": "e457208e",
   "metadata": {},
   "outputs": [],
   "source": [
    "def get_net(n_in):\n",
    "    return nn.Sequential(nn.Linear(n_in, 1))"
   ]
  },
  {
   "cell_type": "code",
   "execution_count": 15,
   "id": "dfd50584",
   "metadata": {},
   "outputs": [],
   "source": [
    "def train(net, X_train, y_train, X_test, y_test,\n",
    "          n_epochs, learning_rate, weight_decay, batch_size):\n",
    "    train_iter = torch.utils.data.DataLoader((X_train, y_train), batch_size, shuffle=True)\n",
    "    optimizer = torch.optim.Adam(net.parameters(), lr=learning_rate, weight_decay=weight_decay)\n",
    "    \n",
    "    for epoch in range(n_epochs):\n",
    "        for X, y in train_iter:\n",
    "            optimizer.zero_grad()\n",
    "            l = loss(net(X), y)\n",
    "            l.backward()\n",
    "            optimizer.step()"
   ]
  },
  {
   "cell_type": "code",
   "execution_count": null,
   "id": "184806aa",
   "metadata": {},
   "outputs": [],
   "source": [
    "def k_fold(k, X_train, y_train, n_epochs, learning_rate, weight_decay, batch_size):\n",
    "    fold_size = data.shape[0] // k\n",
    "    for i in range(k):"
   ]
  }
 ],
 "metadata": {
  "kernelspec": {
   "display_name": "Python 3 (ipykernel)",
   "language": "python",
   "name": "python3"
  },
  "language_info": {
   "codemirror_mode": {
    "name": "ipython",
    "version": 3
   },
   "file_extension": ".py",
   "mimetype": "text/x-python",
   "name": "python",
   "nbconvert_exporter": "python",
   "pygments_lexer": "ipython3",
   "version": "3.9.12"
  }
 },
 "nbformat": 4,
 "nbformat_minor": 5
}
